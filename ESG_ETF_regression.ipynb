{
 "cells": [
  {
   "cell_type": "code",
   "execution_count": 1,
   "metadata": {},
   "outputs": [],
   "source": [
    "import numpy as np\n",
    "import pandas as pd \n",
    "import seaborn as sns\n",
    "import matplotlib.pyplot as plt\n",
    "from xgboost import XGBRegressor, plot_tree,to_graphviz\n",
    "from sklearn.model_selection import GridSearchCV, train_test_split\n",
    "from sklearn.metrics import r2_score\n",
    "from sklearn.metrics import mean_absolute_error"
   ]
  },
  {
   "cell_type": "code",
   "execution_count": 2,
   "metadata": {},
   "outputs": [],
   "source": [
    "from xgboost import XGBRegressor"
   ]
  },
  {
   "cell_type": "code",
   "execution_count": 3,
   "metadata": {},
   "outputs": [],
   "source": [
    "sns.set(style=\"darkgrid\") #configure seaborn"
   ]
  },
  {
   "cell_type": "markdown",
   "metadata": {},
   "source": [
    "## 1. Introduction\n",
    "In this analysis I will try find out whether ESG (environment, social, governance) can be use for for predicting fund/ETF return. It is comprised of\n",
    "\n",
    "Analysis of the ESG data\n",
    "Applying a neural net to see whether it can improve on optimal guessing\n",
    "Separate analysis of funds, ETFs and the combined dataset\n",
    "Disclaimer: this is just an exploratory analysis made out of interest and curiosity and should not be used for any investment dicisions whatsoever.\n",
    "\n",
    "### 1.1 Weaknesses in the Analysis\n",
    "\n",
    "There are several factors which could be adjusted for, e.g. sectors, regions etc\n",
    "No risk-adjustment\n",
    "Short time horizon: a more complete analysis would look into the correlation over a longer time, in order to consider:\n",
    "Structural changes in the economy\n",
    "Market trends\n",
    "Changes before and after important events such as the financial crisis and covid-19 etc.\n",
    "I might expand the analysis to include more features in the future to try to account for some of this.\n",
    "\n",
    "## 2. Import Data\n",
    "Import ESG data\n",
    "Remove NaN values, we don't want to contaminate the analysis with missing data. I found several instances of NaN while inspecting the data. so the null values were droped instead of filled with any values."
   ]
  },
  {
   "cell_type": "code",
   "execution_count": 4,
   "metadata": {},
   "outputs": [],
   "source": [
    "cols = ['isin','fund_trailing_return_ytd', 'social_score', 'environmental_score', 'governance_score', 'sustainability_score']\n",
    "etf_return_esg = pd.read_csv('Morningstar_European_ETFs.csv', usecols=cols).dropna()"
   ]
  },
  {
   "cell_type": "markdown",
   "metadata": {},
   "source": [
    "### 2.1 Inspect Data\n",
    "\n",
    "We start off by having a quick look at the data to:\n",
    "\n",
    "Identify the format\n",
    "Spot potential errros\n",
    "Spot patterns or considerations we might have missed"
   ]
  },
  {
   "cell_type": "code",
   "execution_count": 5,
   "metadata": {},
   "outputs": [
    {
     "data": {
      "text/html": [
       "<div>\n",
       "<style scoped>\n",
       "    .dataframe tbody tr th:only-of-type {\n",
       "        vertical-align: middle;\n",
       "    }\n",
       "\n",
       "    .dataframe tbody tr th {\n",
       "        vertical-align: top;\n",
       "    }\n",
       "\n",
       "    .dataframe thead th {\n",
       "        text-align: right;\n",
       "    }\n",
       "</style>\n",
       "<table border=\"1\" class=\"dataframe\">\n",
       "  <thead>\n",
       "    <tr style=\"text-align: right;\">\n",
       "      <th></th>\n",
       "      <th>isin</th>\n",
       "      <th>environmental_score</th>\n",
       "      <th>social_score</th>\n",
       "      <th>governance_score</th>\n",
       "      <th>sustainability_score</th>\n",
       "      <th>fund_trailing_return_ytd</th>\n",
       "    </tr>\n",
       "  </thead>\n",
       "  <tbody>\n",
       "    <tr>\n",
       "      <th>0</th>\n",
       "      <td>CH0008899764</td>\n",
       "      <td>3.37</td>\n",
       "      <td>10.65</td>\n",
       "      <td>8.42</td>\n",
       "      <td>22.44</td>\n",
       "      <td>8.69</td>\n",
       "    </tr>\n",
       "    <tr>\n",
       "      <th>1</th>\n",
       "      <td>SE0000693293</td>\n",
       "      <td>3.79</td>\n",
       "      <td>8.61</td>\n",
       "      <td>8.12</td>\n",
       "      <td>20.52</td>\n",
       "      <td>17.61</td>\n",
       "    </tr>\n",
       "    <tr>\n",
       "      <th>2</th>\n",
       "      <td>DE000A0H08N1</td>\n",
       "      <td>4.45</td>\n",
       "      <td>7.41</td>\n",
       "      <td>6.97</td>\n",
       "      <td>18.91</td>\n",
       "      <td>8.90</td>\n",
       "    </tr>\n",
       "    <tr>\n",
       "      <th>4</th>\n",
       "      <td>IE0032523478</td>\n",
       "      <td>4.45</td>\n",
       "      <td>10.25</td>\n",
       "      <td>8.94</td>\n",
       "      <td>23.95</td>\n",
       "      <td>8.39</td>\n",
       "    </tr>\n",
       "    <tr>\n",
       "      <th>5</th>\n",
       "      <td>IE0032895942</td>\n",
       "      <td>3.76</td>\n",
       "      <td>11.56</td>\n",
       "      <td>8.58</td>\n",
       "      <td>24.64</td>\n",
       "      <td>9.26</td>\n",
       "    </tr>\n",
       "  </tbody>\n",
       "</table>\n",
       "</div>"
      ],
      "text/plain": [
       "           isin  environmental_score  social_score  governance_score  \\\n",
       "0  CH0008899764                 3.37         10.65              8.42   \n",
       "1  SE0000693293                 3.79          8.61              8.12   \n",
       "2  DE000A0H08N1                 4.45          7.41              6.97   \n",
       "4  IE0032523478                 4.45         10.25              8.94   \n",
       "5  IE0032895942                 3.76         11.56              8.58   \n",
       "\n",
       "   sustainability_score  fund_trailing_return_ytd  \n",
       "0                 22.44                      8.69  \n",
       "1                 20.52                     17.61  \n",
       "2                 18.91                      8.90  \n",
       "4                 23.95                      8.39  \n",
       "5                 24.64                      9.26  "
      ]
     },
     "execution_count": 5,
     "metadata": {},
     "output_type": "execute_result"
    }
   ],
   "source": [
    "etf_return_esg.head()"
   ]
  },
  {
   "cell_type": "markdown",
   "metadata": {},
   "source": [
    "One of the first things to notice is that sustainability seems to be a sum of the ESG scores. We do a simple check below"
   ]
  },
  {
   "cell_type": "code",
   "execution_count": 6,
   "metadata": {},
   "outputs": [
    {
     "data": {
      "text/html": [
       "<div>\n",
       "<style scoped>\n",
       "    .dataframe tbody tr th:only-of-type {\n",
       "        vertical-align: middle;\n",
       "    }\n",
       "\n",
       "    .dataframe tbody tr th {\n",
       "        vertical-align: top;\n",
       "    }\n",
       "\n",
       "    .dataframe thead th {\n",
       "        text-align: right;\n",
       "    }\n",
       "</style>\n",
       "<table border=\"1\" class=\"dataframe\">\n",
       "  <thead>\n",
       "    <tr style=\"text-align: right;\">\n",
       "      <th></th>\n",
       "      <th>isin</th>\n",
       "      <th>esg_sum</th>\n",
       "      <th>sustainability_score</th>\n",
       "    </tr>\n",
       "  </thead>\n",
       "  <tbody>\n",
       "    <tr>\n",
       "      <th>0</th>\n",
       "      <td>CH0008899764</td>\n",
       "      <td>22.44</td>\n",
       "      <td>22.44</td>\n",
       "    </tr>\n",
       "    <tr>\n",
       "      <th>1</th>\n",
       "      <td>SE0000693293</td>\n",
       "      <td>20.52</td>\n",
       "      <td>20.52</td>\n",
       "    </tr>\n",
       "    <tr>\n",
       "      <th>2</th>\n",
       "      <td>DE000A0H08N1</td>\n",
       "      <td>18.83</td>\n",
       "      <td>18.91</td>\n",
       "    </tr>\n",
       "    <tr>\n",
       "      <th>4</th>\n",
       "      <td>IE0032523478</td>\n",
       "      <td>23.64</td>\n",
       "      <td>23.95</td>\n",
       "    </tr>\n",
       "    <tr>\n",
       "      <th>5</th>\n",
       "      <td>IE0032895942</td>\n",
       "      <td>23.90</td>\n",
       "      <td>24.64</td>\n",
       "    </tr>\n",
       "  </tbody>\n",
       "</table>\n",
       "</div>"
      ],
      "text/plain": [
       "           isin  esg_sum  sustainability_score\n",
       "0  CH0008899764    22.44                 22.44\n",
       "1  SE0000693293    20.52                 20.52\n",
       "2  DE000A0H08N1    18.83                 18.91\n",
       "4  IE0032523478    23.64                 23.95\n",
       "5  IE0032895942    23.90                 24.64"
      ]
     },
     "execution_count": 6,
     "metadata": {},
     "output_type": "execute_result"
    }
   ],
   "source": [
    "esg_cols = ['social_score', 'environmental_score', 'governance_score']\n",
    "esg_sum = etf_return_esg[esg_cols].sum(axis=1)\n",
    "df_esg_sum = esg_sum.to_frame('esg_sum')\n",
    "df = etf_return_esg.join(df_esg_sum)\n",
    "\n",
    "df[['isin', 'esg_sum','sustainability_score']].head()"
   ]
  },
  {
   "cell_type": "markdown",
   "metadata": {},
   "source": [
    "And find that it is not true for all but they seem similar, enought that we look into it in the Appendix, but in short it does not seem to be the same data. Thus I keep it as a feature."
   ]
  },
  {
   "cell_type": "markdown",
   "metadata": {},
   "source": [
    "## 3. Return and ESG\n",
    "In this section we try to find out whether ESG is useful in predicting the YTD return. I chose YTD return since I don't have historic ESG data, thus comparing returns for e.g. 2017 might not be relevant.\n",
    "\n",
    "### 3.1 Independent Correlation\n",
    "\n",
    "First we check the correlation matrix to see whether ther is any correlation between the ESG data and the YTD return. This is simply to spot any obvious correlation.\n",
    "\n",
    "The YTD return seems independent for both funds and ETFs. It is close to zero for all. The only exception seems to be environmental score which had a weak negative correlation for ETFs.\n",
    "\n",
    "However this is under the assumption that the variables are independent, which they are not as the matrix clearly shows. Thus we still might discover something if we try to dig further."
   ]
  },
  {
   "cell_type": "code",
   "execution_count": 7,
   "metadata": {},
   "outputs": [
    {
     "data": {
      "text/html": [
       "<div>\n",
       "<style scoped>\n",
       "    .dataframe tbody tr th:only-of-type {\n",
       "        vertical-align: middle;\n",
       "    }\n",
       "\n",
       "    .dataframe tbody tr th {\n",
       "        vertical-align: top;\n",
       "    }\n",
       "\n",
       "    .dataframe thead th {\n",
       "        text-align: right;\n",
       "    }\n",
       "</style>\n",
       "<table border=\"1\" class=\"dataframe\">\n",
       "  <thead>\n",
       "    <tr style=\"text-align: right;\">\n",
       "      <th></th>\n",
       "      <th>environmental_score</th>\n",
       "      <th>social_score</th>\n",
       "      <th>governance_score</th>\n",
       "      <th>sustainability_score</th>\n",
       "      <th>fund_trailing_return_ytd</th>\n",
       "    </tr>\n",
       "  </thead>\n",
       "  <tbody>\n",
       "    <tr>\n",
       "      <th>environmental_score</th>\n",
       "      <td>1.000000</td>\n",
       "      <td>0.441917</td>\n",
       "      <td>0.394837</td>\n",
       "      <td>0.699947</td>\n",
       "      <td>-0.284219</td>\n",
       "    </tr>\n",
       "    <tr>\n",
       "      <th>social_score</th>\n",
       "      <td>0.441917</td>\n",
       "      <td>1.000000</td>\n",
       "      <td>0.801602</td>\n",
       "      <td>0.594261</td>\n",
       "      <td>0.079225</td>\n",
       "    </tr>\n",
       "    <tr>\n",
       "      <th>governance_score</th>\n",
       "      <td>0.394837</td>\n",
       "      <td>0.801602</td>\n",
       "      <td>1.000000</td>\n",
       "      <td>0.442734</td>\n",
       "      <td>-0.024173</td>\n",
       "    </tr>\n",
       "    <tr>\n",
       "      <th>sustainability_score</th>\n",
       "      <td>0.699947</td>\n",
       "      <td>0.594261</td>\n",
       "      <td>0.442734</td>\n",
       "      <td>1.000000</td>\n",
       "      <td>-0.150258</td>\n",
       "    </tr>\n",
       "    <tr>\n",
       "      <th>fund_trailing_return_ytd</th>\n",
       "      <td>-0.284219</td>\n",
       "      <td>0.079225</td>\n",
       "      <td>-0.024173</td>\n",
       "      <td>-0.150258</td>\n",
       "      <td>1.000000</td>\n",
       "    </tr>\n",
       "  </tbody>\n",
       "</table>\n",
       "</div>"
      ],
      "text/plain": [
       "                          environmental_score  social_score  governance_score  \\\n",
       "environmental_score                  1.000000      0.441917          0.394837   \n",
       "social_score                         0.441917      1.000000          0.801602   \n",
       "governance_score                     0.394837      0.801602          1.000000   \n",
       "sustainability_score                 0.699947      0.594261          0.442734   \n",
       "fund_trailing_return_ytd            -0.284219      0.079225         -0.024173   \n",
       "\n",
       "                          sustainability_score  fund_trailing_return_ytd  \n",
       "environmental_score                   0.699947                 -0.284219  \n",
       "social_score                          0.594261                  0.079225  \n",
       "governance_score                      0.442734                 -0.024173  \n",
       "sustainability_score                  1.000000                 -0.150258  \n",
       "fund_trailing_return_ytd             -0.150258                  1.000000  "
      ]
     },
     "execution_count": 7,
     "metadata": {},
     "output_type": "execute_result"
    }
   ],
   "source": [
    "etf_return_esg.corr()"
   ]
  },
  {
   "cell_type": "code",
   "execution_count": 20,
   "metadata": {},
   "outputs": [
    {
     "data": {
      "text/plain": [
       "<AxesSubplot:>"
      ]
     },
     "execution_count": 20,
     "metadata": {},
     "output_type": "execute_result"
    },
    {
     "data": {
      "image/png": "[encoded data removed]",
      "text/plain": [
       "<Figure size 648x648 with 2 Axes>"
      ]
     },
     "metadata": {},
     "output_type": "display_data"
    }
   ],
   "source": [
    "corr = etf_return_esg.corr()\n",
    "\n",
    "# Generate a mask for the upper triangle\n",
    "mask = np.triu(np.ones_like(corr, dtype=bool))\n",
    "\n",
    "# Set up the matplotlib figure\n",
    "f, ax = plt.subplots(figsize=(9, 9))\n",
    "\n",
    "# Generate a custom diverging colormap\n",
    "cmap = sns.diverging_palette(5, 190, as_cmap=True)\n",
    "\n",
    "# Draw the heatmap with the mask and correct aspect ratio\n",
    "sns.heatmap(corr, mask=mask, cmap=cmap, vmax=1., center=0,\n",
    "            square=True, linewidths=.5, cbar_kws={\"shrink\": .5})"
   ]
  },
  {
   "cell_type": "markdown",
   "metadata": {},
   "source": [
    "ETFs it's a bit more mixed, there the correlation is  0.4−0.8\n",
    "We plot some correlations below, but first we must add a flag to make the ETF data distinct from the fund data. We also notice that there seems to be different biases in the data, ETFs have lower values."
   ]
  },
  {
   "cell_type": "code",
   "execution_count": 20,
   "metadata": {},
   "outputs": [
    {
     "data": {
      "text/plain": [
       "<seaborn.axisgrid.FacetGrid at 0x7fb288c210a0>"
      ]
     },
     "execution_count": 20,
     "metadata": {},
     "output_type": "execute_result"
    },
    {
     "data": {
      "image/png": "[encoded data removed]",
      "text/plain": [
       "<Figure size 360x360 with 1 Axes>"
      ]
     },
     "metadata": {},
     "output_type": "display_data"
    }
   ],
   "source": [
    "sns.relplot(x='social_score', y='governance_score',  data=etf_return_esg)"
   ]
  },
  {
   "cell_type": "markdown",
   "metadata": {},
   "source": [
    "### 3.2 Regression Model for the Fund Case\n",
    "\n",
    "We start out by doing a regression model for the fund case.\n",
    "\n",
    "First convert the data to numpy arrays, y is what we want to predict, i.e. YTD returns. x are the features."
   ]
  },
  {
   "cell_type": "code",
   "execution_count": 29,
   "metadata": {},
   "outputs": [
    {
     "name": "stdout",
     "output_type": "stream",
     "text": [
      "Optimal guessing mean accuracy:  9.902584\n"
     ]
    }
   ],
   "source": [
    "np_data = np.array(etf_return_esg)\n",
    "x = np.float32(np_data[:,1:-1])\n",
    "y = np.float32(np_data[:,-1])\n",
    "\n",
    "optimal_guessing = np.mean(y)\n",
    "optimal_guessing_mean_accuracy = np.mean(abs(y-optimal_guessing))\n",
    "print(\"Optimal guessing mean accuracy: \", optimal_guessing_mean_accuracy)"
   ]
  },
  {
   "cell_type": "markdown",
   "metadata": {},
   "source": [
    "Create the regression model. I choose a pretty standard xgboosting regression tree."
   ]
  },
  {
   "cell_type": "code",
   "execution_count": 31,
   "metadata": {},
   "outputs": [
    {
     "data": {
      "text/plain": [
       "Index(['isin', 'environmental_score', 'social_score', 'governance_score',\n",
       "       'sustainability_score', 'fund_trailing_return_ytd'],\n",
       "      dtype='object')"
      ]
     },
     "execution_count": 31,
     "metadata": {},
     "output_type": "execute_result"
    }
   ],
   "source": [
    "etf_return_esg.columns"
   ]
  },
  {
   "cell_type": "code",
   "execution_count": 32,
   "metadata": {},
   "outputs": [],
   "source": [
    "X = etf_return_esg.drop([\"isin\",\"fund_trailing_return_ytd\"], axis=1)\n",
    "Y = etf_return_esg[\"fund_trailing_return_ytd\"]\n",
    "\n",
    "X, X_Val, Y, Y_Val = train_test_split(X, Y)"
   ]
  },
  {
   "cell_type": "code",
   "execution_count": 38,
   "metadata": {},
   "outputs": [
    {
     "data": {
      "text/plain": [
       "GridSearchCV(estimator=XGBRegressor(base_score=None, booster=None,\n",
       "                                    colsample_bylevel=None,\n",
       "                                    colsample_bynode=None,\n",
       "                                    colsample_bytree=None, gamma=None,\n",
       "                                    gpu_id=None, importance_type='gain',\n",
       "                                    interaction_constraints=None,\n",
       "                                    learning_rate=None, max_delta_step=None,\n",
       "                                    max_depth=None, min_child_weight=None,\n",
       "                                    missing=nan, monotone_constraints=None,\n",
       "                                    n_estimators=100, n_jobs=None, nthread=-1,\n",
       "                                    num_parallel_tree=None, random_state=None,\n",
       "                                    reg_alpha=None, reg_lambda=None,\n",
       "                                    scale_pos_weight=None, subsample=None,\n",
       "                                    tree_method=None, validate_parameters=None,\n",
       "                                    verbosity=None),\n",
       "             param_grid={'colsample_bytree': [0.6, 0.7, 0.8, 0.9, 1.0],\n",
       "                         'gamma': [0.3, 0.4, 0.5], 'max_depth': [2, 3, 4],\n",
       "                         'min_child_weight': [4, 5],\n",
       "                         'subsample': [0.6, 0.7, 0.8, 0.9, 1.0]})"
      ]
     },
     "execution_count": 38,
     "metadata": {},
     "output_type": "execute_result"
    }
   ],
   "source": [
    "# A parameter grid for XGBoost\n",
    "params = {'min_child_weight':[4,5], 'gamma':[i/10.0 for i in range(3,6)],  'subsample':[i/10.0 for i in range(6,11)],\n",
    "'colsample_bytree':[i/10.0 for i in range(6,11)], 'max_depth': [2,3,4]}\n",
    "\n",
    "# Initialize XGB and GridSearch\n",
    "xgb = XGBRegressor(nthread=-1) \n",
    "\n",
    "grid = GridSearchCV(xgb, params)\n",
    "grid.fit(X, Y)"
   ]
  },
  {
   "cell_type": "code",
   "execution_count": 49,
   "metadata": {},
   "outputs": [
    {
     "data": {
      "text/plain": [
       "{'colsample_bytree': 1.0,\n",
       " 'gamma': 0.5,\n",
       " 'max_depth': 4,\n",
       " 'min_child_weight': 4,\n",
       " 'subsample': 1.0}"
      ]
     },
     "execution_count": 49,
     "metadata": {},
     "output_type": "execute_result"
    }
   ],
   "source": [
    "grid.best_params_"
   ]
  },
  {
   "cell_type": "code",
   "execution_count": 53,
   "metadata": {},
   "outputs": [
    {
     "data": {
      "text/plain": [
       "XGBRegressor(base_score=0.5, booster='gbtree', colsample_bylevel=1,\n",
       "             colsample_bynode=1, colsample_bytree=1.0, gamma=0.5, gpu_id=-1,\n",
       "             importance_type='gain', interaction_constraints='',\n",
       "             learning_rate=0.300000012, max_delta_step=0, max_depth=4,\n",
       "             min_child_weight=4, missing=nan, monotone_constraints='()',\n",
       "             n_estimators=100, n_jobs=8, num_parallel_tree=1, random_state=0,\n",
       "             reg_alpha=0, reg_lambda=1, scale_pos_weight=1, subsample=1.0,\n",
       "             tree_method='exact', validate_parameters=1, verbosity=None)"
      ]
     },
     "execution_count": 53,
     "metadata": {},
     "output_type": "execute_result"
    }
   ],
   "source": [
    "xgb = XGBRegressor(colsample_bytree=1.0,gamma=0.5,max_depth=4,min_child_weight=4,subsample=1.0) \n",
    "xgb.fit(X, Y)"
   ]
  },
  {
   "cell_type": "code",
   "execution_count": 54,
   "metadata": {},
   "outputs": [
    {
     "name": "stdout",
     "output_type": "stream",
     "text": [
      "0.8458264255699373\n",
      "2.503048926884045\n"
     ]
    }
   ],
   "source": [
    "# Print the r2 score\n",
    "print(r2_score(Y_Val, grid.best_estimator_.predict(X_Val))) \n",
    "print(mean_absolute_error(Y_Val, grid.best_estimator_.predict(X_Val)))"
   ]
  },
  {
   "cell_type": "code",
   "execution_count": null,
   "metadata": {},
   "outputs": [],
   "source": []
  },
  {
   "cell_type": "code",
   "execution_count": null,
   "metadata": {},
   "outputs": [],
   "source": []
  }
 ],
 "metadata": {
  "kernelspec": {
   "display_name": "Python 3",
   "language": "python",
   "name": "python3"
  },
  "language_info": {
   "codemirror_mode": {
    "name": "ipython",
    "version": 3
   },
   "file_extension": ".py",
   "mimetype": "text/x-python",
   "name": "python",
   "nbconvert_exporter": "python",
   "pygments_lexer": "ipython3",
   "version": "3.8.8"
  }
 },
 "nbformat": 4,
 "nbformat_minor": 4
}
